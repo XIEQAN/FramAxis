{
 "cells": [
  {
   "metadata": {},
   "cell_type": "markdown",
   "source": "# 道德维度词向量投影脚本",
   "id": "3baa8b9489b179b0"
  },
  {
   "metadata": {},
   "cell_type": "markdown",
   "source": "# 将词向量（GST和GNT）投影到道德维度轴上，计算bias和intensity值",
   "id": "973da254cdeda227"
  },
  {
   "metadata": {},
   "cell_type": "code",
   "source": [
    "import pandas as pd\n",
    "import numpy as np\n",
    "import pickle\n",
    "import os\n",
    "from typing import Dict, Any, List, Tuple\n",
    "import warnings"
   ],
   "id": "985bbdc7ca9296d",
   "outputs": [],
   "execution_count": null
  },
  {
   "metadata": {},
   "cell_type": "code",
   "outputs": [],
   "execution_count": null,
   "source": [
    "def load_moral_axes(file_path: str) -> Dict[str, np.ndarray]:\n",
    "    \"\"\"\n",
    "    加载道德维度轴向量\n",
    "    \n",
    "    Args:\n",
    "        file_path: moral_axes.pkl文件路径\n",
    "        \n",
    "    Returns:\n",
    "        包含道德维度名称和对应向量的字典\n",
    "    \"\"\"\n",
    "    try:\n",
    "        with open(file_path, 'rb') as f:\n",
    "            moral_axes = pickle.load(f)\n",
    "        print(f\"成功加载道德维度轴，包含以下维度: {list(moral_axes.keys())}\")\n",
    "        return moral_axes\n",
    "    except Exception as e:\n",
    "        raise Exception(f\"加载道德维度轴失败: {e}\")"
   ],
   "id": "8b9b974135b4cd65"
  },
  {
   "metadata": {},
   "cell_type": "code",
   "outputs": [],
   "execution_count": null,
   "source": [
    "def load_embeddings(file_path: str) -> pd.DataFrame:\n",
    "    \"\"\"\n",
    "    加载词向量文件\n",
    "    \n",
    "    Args:\n",
    "        file_path: 词向量CSV文件路径\n",
    "        \n",
    "    Returns:\n",
    "        包含词语、频率和向量的DataFrame\n",
    "    \"\"\"\n",
    "    try:\n",
    "        df = pd.read_csv(file_path)\n",
    "        print(f\"成功加载词向量文件 {os.path.basename(file_path)}，共 {len(df)} 个词\")\n",
    "        return df\n",
    "    except Exception as e:\n",
    "        raise Exception(f\"加载词向量文件失败: {e}\")"
   ],
   "id": "3ef525bec714df89"
  },
  {
   "metadata": {},
   "cell_type": "code",
   "outputs": [],
   "execution_count": null,
   "source": [
    "def calculate_metrics(word_vector: np.ndarray, axis_vector: np.ndarray) -> Tuple[float, float]:\n",
    "    \"\"\"\n",
    "    计算词向量在道德维度轴上的bias和intensity\n",
    "    \n",
    "    Args:\n",
    "        word_vector: 词向量\n",
    "        axis_vector: 道德维度轴向量\n",
    "        \n",
    "    Returns:\n",
    "        (bias, intensity)元组\n",
    "    \"\"\"\n",
    "    # 计算向量范数（模长）\n",
    "    word_norm = np.linalg.norm(word_vector)\n",
    "    axis_norm = np.linalg.norm(axis_vector)\n",
    "    \n",
    "    # 如果向量范数为0，返回0值\n",
    "    if word_norm == 0 or axis_norm == 0:\n",
    "        return 0.0, 0.0\n",
    "    \n",
    "    # 计算点积\n",
    "    dot_product = np.dot(word_vector, axis_vector)\n",
    "    \n",
    "    # 计算bias (cosine similarity)\n",
    "    bias = dot_product / (word_norm * axis_norm)\n",
    "    \n",
    "    # 计算intensity (squared projection distance)\n",
    "    projection = dot_product / axis_norm\n",
    "    intensity = projection ** 2\n",
    "    \n",
    "    return bias, intensity"
   ],
   "id": "b3b4921c81f3302"
  },
  {
   "metadata": {},
   "cell_type": "code",
   "outputs": [],
   "execution_count": null,
   "source": [
    "def process_embeddings(embeddings_df: pd.DataFrame, moral_axes: Dict[str, np.ndarray]) -> pd.DataFrame:\n",
    "    \"\"\"\n",
    "    处理词向量数据，计算在每个道德维度上的bias和intensity\n",
    "    \n",
    "    Args:\n",
    "        embeddings_df: 词向量DataFrame\n",
    "        moral_axes: 道德维度轴向量字典\n",
    "        \n",
    "    Returns:\n",
    "        包含词语、频率和各维度bias/intensity的DataFrame\n",
    "    \"\"\"\n",
    "    # 准备结果DataFrame，保留词语和频率\n",
    "    result_df = embeddings_df[['词语', '频率']].copy()\n",
    "    \n",
    "    # 提取词向量维度列\n",
    "    vector_cols = [f'dim_{i}' for i in range(1, 301)]\n",
    "    \n",
    "    # 对每个词计算在各道德维度上的投影\n",
    "    for axis_name, axis_vector in moral_axes.items():\n",
    "        bias_values = []\n",
    "        intensity_values = []\n",
    "        \n",
    "        for _, row in embeddings_df.iterrows():\n",
    "            try:\n",
    "                # 提取词向量\n",
    "                word_vector = np.array([row[col] for col in vector_cols], dtype=float)\n",
    "                \n",
    "                # 计算bias和intensity\n",
    "                bias, intensity = calculate_metrics(word_vector, axis_vector)\n",
    "                \n",
    "                bias_values.append(bias)\n",
    "                intensity_values.append(intensity)\n",
    "            except Exception as e:\n",
    "                warnings.warn(f\"处理词'{row['词语']}'时出错: {e}\")\n",
    "                bias_values.append(0.0)\n",
    "                intensity_values.append(0.0)\n",
    "        \n",
    "        # 添加到结果DataFrame\n",
    "        result_df[f'{axis_name}_bias'] = bias_values\n",
    "        result_df[f'{axis_name}_intensity'] = intensity_values\n",
    "    \n",
    "    return result_df"
   ],
   "id": "f53bc1cab026c47d"
  },
  {
   "metadata": {
    "collapsed": true,
    "ExecuteTime": {
     "end_time": "2025-04-13T11:39:15.403763Z",
     "start_time": "2025-04-13T11:39:02.142934Z"
    }
   },
   "cell_type": "code",
   "source": [
    "def main():\n",
    "    \"\"\"主函数\"\"\"\n",
    "    try:\n",
    "        # 文件路径\n",
    "        moral_axes_path = 'D:\\pythonProject\\C_MFD2.0_embedding\\代码区域\\FramAxis嵌入测试\\道德轴\\moral_axes.pkl'\n",
    "        gst_path = 'D:\\pythonProject\\C_MFD2.0_embedding\\代码区域\\FramAxis嵌入测试\\GST向量\\gst_embeddings.csv'\n",
    "        gnt_path = 'D:\\pythonProject\\C_MFD2.0_embedding\\代码区域\\FramAxis嵌入测试\\GNT向量\\gnt_embeddings.csv'\n",
    "        \n",
    "        # 加载道德维度轴\n",
    "        moral_axes = load_moral_axes(moral_axes_path)\n",
    "        \n",
    "        # 加载词向量\n",
    "        gst_df = load_embeddings(gst_path)\n",
    "        gnt_df = load_embeddings(gnt_path)\n",
    "        \n",
    "        # 处理GST词向量\n",
    "        print(\"处理GST词向量...\")\n",
    "        projected_gst = process_embeddings(gst_df, moral_axes)\n",
    "        \n",
    "        # 处理GNT词向量\n",
    "        print(\"处理GNT词向量...\")\n",
    "        projected_gnt = process_embeddings(gnt_df, moral_axes)\n",
    "        \n",
    "        # 保存结果\n",
    "        projected_gst.to_csv('projected_gst.csv', index=False)\n",
    "        projected_gnt.to_csv('projected_gnt.csv', index=False)\n",
    "        \n",
    "        print(\"处理完成。结果已保存至projected_gst.csv和projected_gnt.csv\")\n",
    "        \n",
    "    except Exception as e:\n",
    "        print(f\"程序执行错误: {e}\")\n",
    "\n",
    "if __name__ == \"__main__\":\n",
    "    main()"
   ],
   "id": "initial_id",
   "outputs": [
    {
     "name": "stdout",
     "output_type": "stream",
     "text": [
      "成功加载道德维度轴，包含以下维度: ['care', 'fairness', 'loyalty', 'authority', 'purity']\n",
      "成功加载词向量文件 gst_embeddings.csv，共 1018 个词\n",
      "成功加载词向量文件 gnt_embeddings.csv，共 5378 个词\n",
      "处理GST词向量...\n",
      "处理GNT词向量...\n",
      "处理完成。结果已保存至projected_gst.csv和projected_gnt.csv\n"
     ]
    }
   ],
   "execution_count": 2
  }
 ],
 "metadata": {
  "kernelspec": {
   "display_name": "Python 3",
   "language": "python",
   "name": "python3"
  },
  "language_info": {
   "codemirror_mode": {
    "name": "ipython",
    "version": 2
   },
   "file_extension": ".py",
   "mimetype": "text/x-python",
   "name": "python",
   "nbconvert_exporter": "python",
   "pygments_lexer": "ipython2",
   "version": "2.7.6"
  }
 },
 "nbformat": 4,
 "nbformat_minor": 5
}
