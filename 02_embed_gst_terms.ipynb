{
 "cells": [
  {
   "metadata": {},
   "cell_type": "markdown",
   "source": "# GST词向量嵌入脚本",
   "id": "40a94582e443d9b5"
  },
  {
   "metadata": {},
   "cell_type": "code",
   "source": [
    "import pandas as pd\n",
    "import numpy as np\n",
    "from gensim.models import KeyedVectors\n",
    "import os\n",
    "from tqdm import tqdm\n",
    "import time"
   ],
   "id": "5cba6c332271bc1b",
   "outputs": [],
   "execution_count": null
  },
  {
   "metadata": {},
   "cell_type": "code",
   "source": [
    "# 设置文件路径\n",
    "word2vec_model_path = 'D:\\pythonProject\\C_MFD2.0_embedding\\词嵌入模型文件夹\\zhihu\\sgns.zhihu.word'\n",
    "gst_excel_path = r'D:\\pythonProject\\C_MFD2.0_embedding\\代码区域\\FramAxis嵌入测试\\指涉术语测试数据\\测试GST.xlsx'\n",
    "output_csv_path = 'gst_embeddings.csv'\n",
    "\n",
    "print(f\"开始执行GST词向量嵌入任务...\")\n",
    "start_time = time.time()"
   ],
   "id": "649979ed9765e1f3",
   "outputs": [],
   "execution_count": null
  },
  {
   "metadata": {},
   "cell_type": "code",
   "source": [
    "# 加载词向量模型\n",
    "print(f\"正在加载词向量模型: {word2vec_model_path}...\")\n",
    "try:\n",
    "    word_vectors = KeyedVectors.load_word2vec_format(word2vec_model_path, binary=False)\n",
    "    print(f\"词向量模型加载成功，词汇量: {len(word_vectors.key_to_index)}\")\n",
    "except Exception as e:\n",
    "    print(f\"加载词向量模型时出错: {e}\")\n",
    "    raise"
   ],
   "id": "7eba5b3ea64825a0",
   "outputs": [],
   "execution_count": null
  },
  {
   "metadata": {},
   "cell_type": "code",
   "source": [
    "# 加载GST词汇表\n",
    "print(f\"正在加载GST词汇表: {os.path.basename(gst_excel_path)}...\")\n",
    "try:\n",
    "    gst_df = pd.read_excel(gst_excel_path)\n",
    "    # 确保DataFrame有正确的列名\n",
    "    if len(gst_df.columns) >= 2:\n",
    "        gst_df = gst_df.iloc[:, :2]  # 只选择前两列\n",
    "        gst_df.columns = ['词语', '频率']  # 设置列名\n",
    "    print(f\"GST词汇表加载成功，共{len(gst_df)}个词语\")\n",
    "except Exception as e:\n",
    "    print(f\"加载GST词汇表时出错: {e}\")\n",
    "    raise"
   ],
   "id": "68eb7c5a46333863",
   "outputs": [],
   "execution_count": null
  },
  {
   "metadata": {
    "collapsed": true
   },
   "cell_type": "code",
   "source": [
    "# 初始化结果DataFrame\n",
    "results = []\n",
    "missing_words = []\n",
    "\n",
    "# 词向量维度\n",
    "vector_dim = word_vectors.vector_size\n",
    "print(f\"词向量维度: {vector_dim}\")\n",
    "\n",
    "# 处理每个词语\n",
    "print(\"开始处理词语...\")\n",
    "for _, row in tqdm(gst_df.iterrows(), total=len(gst_df), desc=\"处理进度\"):\n",
    "    word = row['词语']\n",
    "    frequency = row['频率']\n",
    "    \n",
    "    try:\n",
    "        # 检查词语是否在词向量模型中\n",
    "        if word in word_vectors:\n",
    "            # 获取词向量\n",
    "            vector = word_vectors[word]\n",
    "            \n",
    "            # 准备一行数据\n",
    "            result_row = {'词语': word, '频率': frequency}\n",
    "            \n",
    "            # 添加词向量维度\n",
    "            for i in range(vector_dim):\n",
    "                result_row[f'dim_{i+1}'] = vector[i]\n",
    "            \n",
    "            results.append(result_row)\n",
    "        else:\n",
    "            missing_words.append(word)\n",
    "            print(f\"警告: 词语 '{word}' 不在词向量模型中\")\n",
    "    except Exception as e:\n",
    "        print(f\"处理词语 '{word}' 时出错: {e}\")\n",
    "        missing_words.append(word)\n",
    "\n",
    "# 创建结果DataFrame\n",
    "result_df = pd.DataFrame(results)\n",
    "\n",
    "# 保存结果到CSV\n",
    "print(f\"正在保存结果到: {output_csv_path}...\")\n",
    "try:\n",
    "    result_df.to_csv(output_csv_path, index=False, encoding='utf-8')\n",
    "    print(f\"结果已成功保存到: {output_csv_path}\")\n",
    "except Exception as e:\n",
    "    print(f\"保存结果时出错: {e}\")\n",
    "    \n",
    "# 报告结果\n",
    "print(f\"\\n处理完成:\")\n",
    "print(f\"- 总词语数: {len(gst_df)}\")\n",
    "print(f\"- 成功嵌入词语数: {len(results)}\")\n",
    "print(f\"- 缺失词语数: {len(missing_words)}\")\n",
    "\n",
    "# 输出缺失词列表\n",
    "if missing_words:\n",
    "    print(\"\\n缺失词列表:\")\n",
    "    for word in missing_words:\n",
    "        print(f\"- {word}\")\n",
    "\n",
    "end_time = time.time()\n",
    "print(f\"\\n任务完成，耗时: {end_time - start_time:.2f}秒\")"
   ],
   "id": "initial_id",
   "outputs": [],
   "execution_count": null
  }
 ],
 "metadata": {
  "kernelspec": {
   "display_name": "Python 3",
   "language": "python",
   "name": "python3"
  },
  "language_info": {
   "codemirror_mode": {
    "name": "ipython",
    "version": 2
   },
   "file_extension": ".py",
   "mimetype": "text/x-python",
   "name": "python",
   "nbconvert_exporter": "python",
   "pygments_lexer": "ipython2",
   "version": "2.7.6"
  }
 },
 "nbformat": 4,
 "nbformat_minor": 5
}
